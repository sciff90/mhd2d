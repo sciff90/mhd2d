{
 "metadata": {
  "name": ""
 },
 "nbformat": 3,
 "nbformat_minor": 0,
 "worksheets": [
  {
   "cells": [
    {
     "cell_type": "heading",
     "level": 1,
     "metadata": {},
     "source": [
      "Reading Binary and Formatted Files from Fortran"
     ]
    },
    {
     "cell_type": "heading",
     "level": 3,
     "metadata": {},
     "source": [
      "Step 1: import in numpy library"
     ]
    },
    {
     "cell_type": "code",
     "collapsed": false,
     "input": [
      "import subprocess\n",
      "#make the fortran executable and run it\n",
      "subprocess.call(\"./xmake_data.sh\")\n",
      "import numpy as np"
     ],
     "language": "python",
     "metadata": {},
     "outputs": [],
     "prompt_number": 1
    },
    {
     "cell_type": "heading",
     "level": 3,
     "metadata": {},
     "source": [
      "Step 2: open desired file"
     ]
    },
    {
     "cell_type": "markdown",
     "metadata": {},
     "source": [
      "The option 'rb' in the fromfile package means that the file is opened in 'read-binary' format."
     ]
    },
    {
     "cell_type": "code",
     "collapsed": false,
     "input": [
      "filename = './data/test_data_binary.dat'\n",
      "f = open ( filename , 'rb' )"
     ],
     "language": "python",
     "metadata": {},
     "outputs": [],
     "prompt_number": 2
    },
    {
     "cell_type": "heading",
     "level": 3,
     "metadata": {},
     "source": [
      "Step 3: Use the 'fromfile' package from numpy"
     ]
    },
    {
     "cell_type": "markdown",
     "metadata": {},
     "source": [
      "Knowing the data type of the arrays, i.e. single or double precision floating point, integer or complex is very important. This tells the fromfile package how many bytes to read for each data element. The **dtype** option is used to choose the datatype.\n",
      "\n",
      "Datatypes include:\n",
      "\n",
      "- **int32**:Normal Integer\n",
      "- **int64**:Long Integer\n",
      "- **float32**:single precision float\n",
      "- **float64**:double precision float\n",
      "- **complex64**:single precision complex\n",
      "- **complex128**:double precision complex\n",
      "\n",
      "The other important option is the **count**, this defines the number of elements to read in.\n",
      "\n",
      "- For a single value, **count = 1**\n",
      "- For a 1D array of size $N$, **count = N**\n",
      "- For a 2D array of size $N \\times N$, **count = N*N**"
     ]
    },
    {
     "cell_type": "code",
     "collapsed": false,
     "input": [
      "N = np.fromfile ( f , dtype = np.int32 , count = 1 )[0]\n",
      "dbl_2d_array = np.fromfile ( f , dtype = np.float64 , count = N*N )\n",
      "flt_array = np.fromfile ( f , dtype = np.float32 , count = N )\n",
      "cmplx_test = np.fromfile ( f , dtype = np.complex64 , count = N )"
     ],
     "language": "python",
     "metadata": {},
     "outputs": [],
     "prompt_number": 3
    },
    {
     "cell_type": "heading",
     "level": 3,
     "metadata": {},
     "source": [
      "Step 4: Use the reshape command for multidimensional arrays"
     ]
    },
    {
     "cell_type": "markdown",
     "metadata": {},
     "source": [
      "To convert the 1D array read in by **fromfile** the **reshape** command is used. The second option defines the desired array shape. In this case we are converting the 1D array to a 2D $N\\times N$ array. The **order** option is used to define whether fortran style **'F'** column major form or c style **'C'** row major array indexing is used."
     ]
    },
    {
     "cell_type": "code",
     "collapsed": false,
     "input": [
      "dbl_2d_array = np.reshape(dbl_2d_array,(N,N),order='F')"
     ],
     "language": "python",
     "metadata": {},
     "outputs": [],
     "prompt_number": 4
    },
    {
     "cell_type": "heading",
     "level": 3,
     "metadata": {},
     "source": [
      "Step 5: Close the file"
     ]
    },
    {
     "cell_type": "code",
     "collapsed": false,
     "input": [
      "f.close()\n",
      "#delete the data from the machine\n",
      "subprocess.call([\"rm\",\"-rf\",\"./data\"])\n",
      "\n",
      "print N\n",
      "print dbl_2d_array\n",
      "print flt_array\n",
      "print cmplx_test"
     ],
     "language": "python",
     "metadata": {},
     "outputs": [
      {
       "output_type": "stream",
       "stream": "stdout",
       "text": [
        "12\n",
        "[[ 12.34560013  12.34560013  12.34560013  12.34560013  12.34560013\n",
        "   12.34560013  12.34560013  12.34560013  12.34560013  12.34560013\n",
        "   12.34560013  12.34560013]\n",
        " [ 12.34560013  12.34560013  12.34560013  12.34560013  12.34560013\n",
        "   12.34560013  12.34560013  12.34560013  12.34560013  12.34560013\n",
        "   12.34560013  12.34560013]\n",
        " [ 12.34560013  12.34560013  12.34560013  12.34560013  12.34560013\n",
        "   12.34560013  12.34560013  12.34560013  12.34560013  12.34560013\n",
        "   12.34560013  12.34560013]\n",
        " [ 12.34560013  12.34560013  12.34560013  12.34560013  12.34560013\n",
        "   12.34560013  12.34560013  12.34560013  12.34560013  12.34560013\n",
        "   12.34560013  12.34560013]\n",
        " [ 12.34560013  12.34560013  12.34560013  12.34560013  12.34560013\n",
        "   12.34560013  12.34560013  12.34560013  12.34560013  12.34560013\n",
        "   12.34560013  12.34560013]\n",
        " [ 12.34560013  12.34560013  12.34560013  12.34560013  12.34560013\n",
        "   12.34560013  12.34560013  12.34560013  12.34560013  12.34560013\n",
        "   12.34560013  12.34560013]\n",
        " [ 12.34560013  12.34560013  12.34560013  12.34560013  12.34560013\n",
        "   12.34560013  12.34560013  12.34560013  12.34560013  12.34560013\n",
        "   12.34560013  12.34560013]\n",
        " [ 12.34560013  12.34560013  12.34560013  12.34560013  12.34560013\n",
        "   12.34560013  12.34560013  12.34560013  12.34560013  12.34560013\n",
        "   12.34560013  12.34560013]\n",
        " [ 12.34560013  12.34560013  12.34560013  12.34560013  12.34560013\n",
        "   12.34560013  12.34560013  12.34560013  12.34560013  12.34560013\n",
        "   12.34560013  12.34560013]\n",
        " [ 12.34560013  12.34560013  12.34560013  12.34560013  12.34560013\n",
        "   12.34560013  12.34560013  12.34560013  12.34560013  12.34560013\n",
        "   12.34560013  12.34560013]\n",
        " [ 12.34560013  12.34560013  12.34560013  12.34560013  12.34560013\n",
        "   12.34560013  12.34560013  12.34560013  12.34560013  12.34560013\n",
        "   12.34560013  12.34560013]\n",
        " [ 12.34560013  12.34560013  12.34560013  12.34560013  12.34560013\n",
        "   12.34560013  12.34560013  12.34560013  12.34560013  12.34560013\n",
        "   12.34560013  12.34560013]]\n",
        "[ 11.10999966  11.10999966  11.10999966  11.10999966  11.10999966\n",
        "  11.10999966  11.10999966  11.10999966  11.10999966  11.10999966\n",
        "  11.10999966  11.10999966]\n",
        "[ 1.11109996+2.22219992j  1.11109996+2.22219992j  1.11109996+2.22219992j\n",
        "  1.11109996+2.22219992j  1.11109996+2.22219992j  1.11109996+2.22219992j\n",
        "  1.11109996+2.22219992j  1.11109996+2.22219992j  1.11109996+2.22219992j\n",
        "  1.11109996+2.22219992j  1.11109996+2.22219992j  1.11109996+2.22219992j]\n"
       ]
      }
     ],
     "prompt_number": 5
    }
   ],
   "metadata": {}
  }
 ]
}